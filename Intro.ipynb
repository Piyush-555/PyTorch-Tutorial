{
 "cells": [
  {
   "cell_type": "markdown",
   "metadata": {},
   "source": [
    "#### Installation check"
   ]
  },
  {
   "cell_type": "code",
   "execution_count": 1,
   "metadata": {},
   "outputs": [
    {
     "name": "stdout",
     "output_type": "stream",
     "text": [
      "0.4.1\n",
      "GPU Available? True\n",
      "CUDA Toolkit version: 9.0\n"
     ]
    }
   ],
   "source": [
    "import torch\n",
    "print(torch.__version__)\n",
    "print(\"GPU Available? {}\".format(torch.cuda.is_available()))\n",
    "print(\"CUDA Toolkit version: {}\".format(torch.version.cuda))"
   ]
  },
  {
   "cell_type": "markdown",
   "metadata": {},
   "source": [
    "#### Basic"
   ]
  },
  {
   "cell_type": "code",
   "execution_count": 5,
   "metadata": {},
   "outputs": [
    {
     "name": "stdout",
     "output_type": "stream",
     "text": [
      "tensor([1, 2, 3])\n",
      "tensor([[2, 1, 6, 8],\n",
      "        [2, 3, 7, 4],\n",
      "        [5, 6, 4, 3],\n",
      "        [4, 8, 4, 3],\n",
      "        [7, 7, 4, 1]], dtype=torch.int32)\n",
      "tensor([1, 2, 3], device='cuda:0')\n",
      "tensor([[2, 1, 6, 8],\n",
      "        [2, 3, 7, 4],\n",
      "        [5, 6, 4, 3],\n",
      "        [4, 8, 4, 3],\n",
      "        [7, 7, 4, 1]], device='cuda:0', dtype=torch.int32)\n"
     ]
    }
   ],
   "source": [
    "import numpy as np\n",
    "# Creating nd-array\n",
    "x_cpu = torch.tensor([1,2,3])\n",
    "z = np.random.randint(1, 9, (5,4))\n",
    "y_cpu = torch.tensor(z)\n",
    "print(x_cpu)\n",
    "print(y_cpu)\n",
    "\n",
    "# Transfer of tensor to GPU\n",
    "x_gpu = x_cpu.cuda()\n",
    "y_gpu = y_cpu.cuda()\n",
    "print(x_gpu)\n",
    "print(y_gpu)"
   ]
  },
  {
   "cell_type": "code",
   "execution_count": 9,
   "metadata": {},
   "outputs": [
    {
     "name": "stdout",
     "output_type": "stream",
     "text": [
      "torch.Size([3]) torch.Size([5, 4])\n",
      "tensor([[2, 1, 6, 8],\n",
      "        [2, 3, 7, 4],\n",
      "        [5, 6, 4, 3],\n",
      "        [4, 8, 4, 3],\n",
      "        [7, 7, 4, 1]], device='cuda:0', dtype=torch.int32) torch.Size([5, 4])\n",
      "tensor([[2, 1, 6, 8],\n",
      "        [2, 3, 7, 4],\n",
      "        [5, 6, 4, 3],\n",
      "        [4, 8, 4, 3],\n",
      "        [7, 7, 4, 1]], device='cuda:0', dtype=torch.int32) torch.Size([5, 4])\n"
     ]
    }
   ],
   "source": [
    "# Shape and Reshape\n",
    "x = x_gpu\n",
    "y = y_gpu\n",
    "print(x.shape, y.shape)\n",
    "\n",
    "y.reshape(1,20)\n",
    "print(y, y.shape)\n",
    "\n",
    "y.reshape(4,5)\n",
    "print(y, y.shape)"
   ]
  },
  {
   "cell_type": "code",
   "execution_count": null,
   "metadata": {},
   "outputs": [],
   "source": []
  }
 ],
 "metadata": {
  "kernelspec": {
   "display_name": "Python 3",
   "language": "python",
   "name": "python3"
  },
  "language_info": {
   "codemirror_mode": {
    "name": "ipython",
    "version": 3
   },
   "file_extension": ".py",
   "mimetype": "text/x-python",
   "name": "python",
   "nbconvert_exporter": "python",
   "pygments_lexer": "ipython3",
   "version": "3.6.5"
  }
 },
 "nbformat": 4,
 "nbformat_minor": 2
}
