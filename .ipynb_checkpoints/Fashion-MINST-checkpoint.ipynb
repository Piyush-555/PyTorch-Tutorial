{
 "cells": [
  {
   "cell_type": "code",
   "execution_count": 1,
   "metadata": {},
   "outputs": [],
   "source": [
    "# Importing dependencies\n",
    "import numpy as np\n",
    "import matplotlib.pyplot as plt\n",
    "import torch\n",
    "import torchvision"
   ]
  },
  {
   "cell_type": "code",
   "execution_count": 2,
   "metadata": {},
   "outputs": [
    {
     "name": "stdout",
     "output_type": "stream",
     "text": [
      "cuda:0\n"
     ]
    }
   ],
   "source": [
    "# Is gpu available?\n",
    "if torch.cuda.is_available():\n",
    "    device = torch.device(\"cuda:0\")\n",
    "else:\n",
    "    device = torch.device(\"cpu\")\n",
    "    \n",
    "print(device)"
   ]
  },
  {
   "cell_type": "code",
   "execution_count": 3,
   "metadata": {},
   "outputs": [
    {
     "name": "stdout",
     "output_type": "stream",
     "text": [
      "Path already exist\n",
      "Train samples: 60000\n",
      "Test samples: 10000\n",
      "Image shape: torch.Size([16, 1, 28, 28])\n"
     ]
    }
   ],
   "source": [
    "# getting dataset ready...\n",
    "from torchvision import transforms\n",
    "from torchvision.datasets import FashionMNIST\n",
    "from torch.utils.data import DataLoader\n",
    "\n",
    "import os\n",
    "root_dir = \"data/fmnist/\"\n",
    "batch_size=16\n",
    "\n",
    "try:\n",
    "    os.mkdir(root_dir)\n",
    "except FileExistsError:\n",
    "    print(\"Path already exist\")\n",
    "\n",
    "# Transform\n",
    "transform = transforms.Compose([transforms.ToTensor(), transforms.Normalize((0,0,0), (1,1,1))]) #mean=0, stddev=1\n",
    "\n",
    "# Loading data\n",
    "train_data = FashionMNIST(root=root_dir, train=True, download=True, transform=transform)\n",
    "test_data = FashionMNIST(root=root_dir, train=False, download=True, transform=transform)\n",
    "\n",
    "train_loader = DataLoader(train_data, batch_size=batch_size, shuffle=True, num_workers=4)\n",
    "test_loader = DataLoader(test_data, batch_size=batch_size, shuffle=False, num_workers=4)\n",
    "\n",
    "classes = [\"T-shirt/top\", \"Trouser\", \"Pullover\", \"Dress\", \"Coat\", \"Sandal\", \"Shirt\", \"Sneaker\", \"Bag\", \"Ankle boot\"]\n",
    "\n",
    "print(\"Train samples:\", len(train_data))\n",
    "print(\"Test samples:\", len(test_data))\n",
    "\n",
    "print(\"Image shape:\", iter(train_loader).next()[0].shape)"
   ]
  },
  {
   "cell_type": "code",
   "execution_count": 4,
   "metadata": {},
   "outputs": [
    {
     "data": {
      "image/png": "[encoded data removed]",
      "text/plain": [
       "<Figure size 432x288 with 1 Axes>"
      ]
     },
     "metadata": {},
     "output_type": "display_data"
    },
    {
     "name": "stdout",
     "output_type": "stream",
     "text": [
      "['Bag', 'Dress', 'Shirt', 'Trouser', 'Coat', 'Dress', 'Trouser', 'Bag', 'Sneaker', 'Shirt', 'Shirt', 'Bag', 'Ankle boot', 'Sandal', 'Ankle boot', 'Trouser']\n"
     ]
    }
   ],
   "source": [
    "# showing samples...\n",
    "def get_random_sample():\n",
    "    data_iter = iter(train_loader)\n",
    "    for i in range(np.random.randint(100)):\n",
    "        next(data_iter)\n",
    "    return next(data_iter)\n",
    "\n",
    "def show_images(images, mean, stddev):\n",
    "    images = images*stddev + mean\n",
    "    img = images.numpy()\n",
    "    # making numpy compatible image\n",
    "    img = np.transpose(img, (1,2,0))\n",
    "    plt.imshow(img)\n",
    "    plt.show()\n",
    "\n",
    "images, lables = get_random_sample()\n",
    "show_images(torchvision.utils.make_grid(images), mean=0, stddev=1)\n",
    "print(list(classes[i] for i in lables))"
   ]
  },
  {
   "cell_type": "code",
   "execution_count": 5,
   "metadata": {},
   "outputs": [
    {
     "data": {
      "text/plain": [
       "Model(\n",
       "  (conv1): Conv2d(1, 64, kernel_size=(5, 5), stride=(1, 1))\n",
       "  (max_pool): MaxPool2d(kernel_size=2, stride=2, padding=0, dilation=1, ceil_mode=False)\n",
       "  (conv2): Conv2d(64, 256, kernel_size=(5, 5), stride=(1, 1))\n",
       "  (fc1): Linear(in_features=4096, out_features=1024, bias=True)\n",
       "  (fc2): Linear(in_features=1024, out_features=128, bias=True)\n",
       "  (fc3): Linear(in_features=128, out_features=10, bias=True)\n",
       ")"
      ]
     },
     "execution_count": 5,
     "metadata": {},
     "output_type": "execute_result"
    }
   ],
   "source": [
    "# Defining model...\n",
    "import torch.nn as nn\n",
    "from torch.nn.functional import relu\n",
    "\n",
    "class Model(nn.Module):\n",
    "    \n",
    "    def __init__(self):\n",
    "        super().__init__()\n",
    "        self.conv1 = nn.Conv2d(1,64,5)\n",
    "        self.max_pool = nn.MaxPool2d(2,2)\n",
    "        self.conv2 = nn.Conv2d(64,256,5)\n",
    "        self.fc1 = nn.Linear(256*4*4,1024)\n",
    "        self.fc2 = nn.Linear(1024,128)\n",
    "        self.fc3 = nn.Linear(128,10)\n",
    "        \n",
    "    def forward(self, x):\n",
    "        x = self.conv1(x)\n",
    "        x = self.max_pool(x)\n",
    "        x = relu(x)\n",
    "        x = self.conv2(x)\n",
    "        x = self.max_pool(x)\n",
    "        x = relu(x)\n",
    "        x = x.view(-1,256*4*4)\n",
    "        x = self.fc1(x)\n",
    "        x = relu(x)\n",
    "        x = self.fc2(x)\n",
    "        x = relu(x)\n",
    "        x = self.fc3(x)\n",
    "        return x\n",
    "model = Model()\n",
    "model.to(device)"
   ]
  },
  {
   "cell_type": "code",
   "execution_count": 6,
   "metadata": {},
   "outputs": [],
   "source": [
    "# Prediction\n",
    "# If using Dropout or BatchNorm use Evaluation Mode while testing\n",
    "def accuracy(model, test_loader, batch_size):\n",
    "    total = len(test_loader)*batch_size\n",
    "    correct = 0\n",
    "    with torch.no_grad():\n",
    "        for data in test_loader:\n",
    "            inputs, lables = data[0].to(device), data[1].to(device)\n",
    "            output = model(inputs).to(device)\n",
    "            out, pred = torch.max(output, 1)\n",
    "            correct += (pred==lables).squeeze().sum().item()\n",
    "    return correct/total"
   ]
  },
  {
   "cell_type": "code",
   "execution_count": 7,
   "metadata": {},
   "outputs": [],
   "source": [
    "# Plotting Loss v/s Accuracy\n",
    "def loss_vs_accuracy(stats):\n",
    "    loss = stats[\"loss\"]\n",
    "    accuracy = stats[\"accuracy\"]\n",
    "    epochs = list(range(1, len(loss)+1))\n",
    "    plt.plot(epochs, loss)\n",
    "    plt.plot(epochs, accuracy)"
   ]
  },
  {
   "cell_type": "code",
   "execution_count": 8,
   "metadata": {},
   "outputs": [],
   "source": [
    "# Loss and Optimizer\n",
    "from torch.optim import Adam\n",
    "\n",
    "Loss = nn.CrossEntropyLoss()\n",
    "optimizer = Adam(model.parameters(), lr=1e-5)"
   ]
  },
  {
   "cell_type": "code",
   "execution_count": 11,
   "metadata": {},
   "outputs": [
    {
     "name": "stdout",
     "output_type": "stream",
     "text": [
      "Epoch 1: AvgLoss=0.2555754729469617\n",
      "Epoch 2: AvgLoss=0.2509070648590724\n",
      "Epoch 3: AvgLoss=0.24517003909746807\n",
      "Epoch 4: AvgLoss=0.2407793171942234\n",
      "Epoch 5: AvgLoss=0.2354789980451266\n",
      "Epoch 6: AvgLoss=0.23054851893981299\n",
      "Epoch 7: AvgLoss=0.22571211549639703\n",
      "Epoch 8: AvgLoss=0.22205988150636355\n",
      "Epoch 9: AvgLoss=0.21807088754375775\n",
      "Epoch 10: AvgLoss=0.21384013670484225\n",
      "Epoch 11: AvgLoss=0.2092940664966901\n",
      "Epoch 12: AvgLoss=0.20534166300296783\n",
      "Epoch 13: AvgLoss=0.20057502411206563\n",
      "Epoch 14: AvgLoss=0.19800274714231492\n",
      "Epoch 15: AvgLoss=0.19393076750040053\n",
      "Epoch 16: AvgLoss=0.189935206057628\n",
      "Epoch 17: AvgLoss=0.187024103585879\n",
      "Epoch 18: AvgLoss=0.18308786337773006\n",
      "Epoch 19: AvgLoss=0.17935671160817146\n",
      "Epoch 20: AvgLoss=0.1759403608649969\n",
      "Training Done\n",
      "Time for an epoch:26.660276889801025s\n",
      "Time for a single batch:0.0071094071706136065s\n"
     ]
    }
   ],
   "source": [
    "# Training the network\n",
    "import time\n",
    "num_epochs = 20\n",
    "num_batches = len(train_loader)\n",
    "interval = 250\n",
    "# Comment following line if running this cell for more than one\n",
    "stats = {\"loss\":[], \"loss_with_intervals\":[], \"accuracy\":[]}\n",
    "\n",
    "for epoch in range(num_epochs):\n",
    "    stats[\"loss_with_intervals\"].append([])\n",
    "    tik = time.time()\n",
    "    epoch_loss = 0\n",
    "    running_loss = 0\n",
    "    for i, data in enumerate(train_loader):\n",
    "        # Transfer batch to gpu\n",
    "        inputs, lables = data[0].to(device), data[1].to(device)\n",
    "        # Get output, get grad, update weights\n",
    "        optimizer.zero_grad()\n",
    "        output = model(inputs).to(device)\n",
    "        loss = Loss(output, lables).to(device)\n",
    "        loss.backward()\n",
    "        optimizer.step()\n",
    "        # Some stats...\n",
    "        running_loss+=loss.item()\n",
    "        epoch_loss+=loss.item()\n",
    "        if i%interval==interval-1:\n",
    "            stats[\"loss_with_intervals\"][-1].append(running_loss/interval)\n",
    "            running_loss = 0\n",
    "    tok = time.time()\n",
    "    print(\"Epoch {}: AvgLoss={}\".format(epoch+1, epoch_loss/num_batches))\n",
    "    stats[\"loss\"].append(epoch_loss/num_batches)\n",
    "    \n",
    "    # Prediction on validation set\n",
    "    stats[\"accuracy\"].append(accuracy(model, test_loader, batch_size))\n",
    "    \n",
    "print(\"Training Done\")\n",
    "print(\"Time for an epoch:{}s\\nTime for a single batch:{}s\".format((tok-tik), (tok-tik)/num_batches))"
   ]
  },
  {
   "cell_type": "code",
   "execution_count": 13,
   "metadata": {},
   "outputs": [
    {
     "name": "stdout",
     "output_type": "stream",
     "text": [
      "Accuracy:91.02%\n"
     ]
    },
    {
     "data": {
      "image/png": "[encoded data removed]",
      "text/plain": [
       "<Figure size 432x288 with 1 Axes>"
      ]
     },
     "metadata": {},
     "output_type": "display_data"
    }
   ],
   "source": [
    "# Accuracy\n",
    "print(\"Accuracy:{}%\".format(100*accuracy(model, test_loader, batch_size)))\n",
    "loss_vs_accuracy(stats)"
   ]
  },
  {
   "cell_type": "markdown",
   "metadata": {},
   "source": [
    "##### TO-DO\n",
    "* Increase the size of Model.\n",
    "* Add `BatchNorm()` and `Dropout()` layers. Also code for `model.eval()`.\n",
    "* Make different stats for `train_set` and `test_set/val_set`. Capture `train_loss` and `val_loss`, `train_accuracy` and `val_accuracy` after each epoch.\n",
    "* Graph comparing `train_loss` and `val_loss`, `train_accuracy` and `val_accuracy`."
   ]
  }
 ],
 "metadata": {
  "kernelspec": {
   "display_name": "Python 3",
   "language": "python",
   "name": "python3"
  },
  "language_info": {
   "codemirror_mode": {
    "name": "ipython",
    "version": 3
   },
   "file_extension": ".py",
   "mimetype": "text/x-python",
   "name": "python",
   "nbconvert_exporter": "python",
   "pygments_lexer": "ipython3",
   "version": "3.6.5"
  }
 },
 "nbformat": 4,
 "nbformat_minor": 2
}
